{
  "cells": [
    {
      "cell_type": "markdown",
      "metadata": {},
      "source": [
        "\n",
        "### M2_SII_23_24:\n",
        "<center><h1>TP4 RCR2:</h1></center>\n",
        "<center><h2>Logique possibiliste qualitative</h2></center>\n",
        "---\n",
        "FERKOU SARAH - KHEMISSI MAROUA\n",
        "\n"
      ]
    },
    {
      "cell_type": "code",
      "execution_count": 2,
      "metadata": {
        "colab": {
          "base_uri": "https://localhost:8080/"
        },
        "id": "Bxd5ntqdlSTL",
        "outputId": "1502f468-d45c-48ad-97a2-2877e44a6261"
      },
      "outputs": [
        {
          "name": "stdout",
          "output_type": "stream",
          "text": [
            "Collecting pycosat\n",
            "  Downloading pycosat-0.6.6.tar.gz (71 kB)\n",
            "\u001b[2K     \u001b[90m━━━━━━━━━━━━━━━━━━━━━━━━━━━━━━━━━━━━━━━━\u001b[0m \u001b[32m71.6/71.6 kB\u001b[0m \u001b[31m1.4 MB/s\u001b[0m eta \u001b[36m0:00:00\u001b[0m\n",
            "\u001b[?25h  Preparing metadata (setup.py) ... \u001b[?25l\u001b[?25hdone\n",
            "Building wheels for collected packages: pycosat\n",
            "  Building wheel for pycosat (setup.py) ... \u001b[?25l\u001b[?25hdone\n",
            "  Created wheel for pycosat: filename=pycosat-0.6.6-cp310-cp310-linux_x86_64.whl size=169341 sha256=531b2ae483e7007547f60fca71419594c40db7437a1278314baf4b25f167429a\n",
            "  Stored in directory: /root/.cache/pip/wheels/63/29/df/b8c22ca5812e2d7b342269a53add280b5bad42a540f34c3dc1\n",
            "Successfully built pycosat\n",
            "Installing collected packages: pycosat\n",
            "Successfully installed pycosat-0.6.6\n"
          ]
        }
      ],
      "source": [
        "!pip install pycosat"
      ]
    },
    {
      "cell_type": "code",
      "execution_count": 3,
      "metadata": {
        "id": "HQ1Iq2oDlCCp"
      },
      "outputs": [],
      "source": [
        "import random\n",
        "import os\n",
        "import pycosat"
      ]
    },
    {
      "cell_type": "code",
      "execution_count": 5,
      "metadata": {
        "id": "nrZfpkWzlIJU"
      },
      "outputs": [],
      "source": [
        "class BaseConnaissance:\n",
        "    number_of_clause = 0\n",
        "    number_of_variable = 0\n",
        "    evidence_length = 0\n",
        "    var_list = []\n",
        "    max_clause_length = 0\n",
        "\n",
        "    def __init__(self, nb_clause, nb_variable, length, max_number):\n",
        "        self.number_of_clause = nb_clause\n",
        "        self.number_of_variable = nb_variable\n",
        "        self.evidence_length = length\n",
        "        self.max_clause_length = max_number\n",
        "        for i in range(self.number_of_variable):\n",
        "            self.var_list.append(i + 1)\n",
        "            self.var_list.append(-(i + 1))\n",
        "\n",
        "    def get_evidence(self):\n",
        "        return random.sample(self.var_list, self.evidence_length)\n",
        "\n",
        "    def get_sigma(self):\n",
        "        with open(\"temp.txt\", \"w\") as sigma_file:\n",
        "            for i in range(self.number_of_clause):\n",
        "                ran = random.randrange(1, self.max_clause_length + 1, 1)\n",
        "                temp_list = random.sample(self.var_list, ran)\n",
        "                weight = random.random()\n",
        "                weight = float(int(weight * 100)) / 100\n",
        "                chaine = \"\" + str(weight) + \" \"\n",
        "                for j in range(len(temp_list)):\n",
        "                    chaine = chaine + str(temp_list[j]) + \" \"\n",
        "                sigma_file.write(chaine + \"\\n\")\n",
        "                temp_list = []\n"
      ]
    },
    {
      "cell_type": "code",
      "execution_count": 6,
      "metadata": {
        "id": "Kw_oWRfRliO4"
      },
      "outputs": [],
      "source": [
        "class Sigma:\n",
        "    lower = 0\n",
        "    upper = 0\n",
        "    weights = []\n",
        "    formulas = []\n",
        "    strates_weights = []\n",
        "\n",
        "    def __init__(self, path_file):\n",
        "        with open(path_file) as file:\n",
        "            for line in file:\n",
        "                information = line.split()\n",
        "                self.weights.append(float(information[0]))\n",
        "                self.formulas.append([int(information[i]) for i in range(1, len(information))])\n",
        "        self.length = len(self.weights)\n",
        "\n",
        "    def get_length(self):\n",
        "        return self.length\n",
        "\n",
        "    def get_weights(self):\n",
        "        return self.weights\n",
        "\n",
        "    def get_formulas(self):\n",
        "        return self.formulas\n",
        "\n",
        "    def sort_weights(self):\n",
        "        sorted_data = sorted(zip(self.weights, self.formulas), reverse=True)\n",
        "        self.weights, self.formulas = zip(*sorted_data)\n",
        "\n",
        "    def compute_strates(self):\n",
        "        self.upper = len(set(self.weights))\n",
        "        self.strates_weights = sorted(set(self.weights))\n",
        "\n",
        "    def get_strates_number(self):\n",
        "        return self.upper\n",
        "\n",
        "    def get_strates_weights(self):\n",
        "        return self.strates_weights\n",
        "\n",
        "    def get_preprocessed_formulas(self, sub_formulas):\n",
        "        dict_cor = {}\n",
        "        returned_formulas = []\n",
        "        cpt = 1\n",
        "\n",
        "        for form in sub_formulas:\n",
        "            temp_form = []\n",
        "            for pred in form:\n",
        "                if pred not in dict_cor:\n",
        "                    dict_cor[pred] = cpt\n",
        "                    dict_cor[-pred] = -cpt\n",
        "                    cpt += 1\n",
        "                temp_form.append(dict_cor[pred])\n",
        "            returned_formulas.append(temp_form)\n",
        "\n",
        "        return returned_formulas\n"
      ]
    },
    {
      "cell_type": "code",
      "execution_count": 7,
      "metadata": {
        "colab": {
          "base_uri": "https://localhost:8080/"
        },
        "id": "WmHIeV_wl769",
        "outputId": "885bba3a-85d5-464d-af2c-f2798a6da512"
      },
      "outputs": [
        {
          "name": "stdout",
          "output_type": "stream",
          "text": [
            "Mounted at /content/drive\n"
          ]
        }
      ],
      "source": [
        "from google.colab import drive\n",
        "drive.mount('/content/drive')"
      ]
    },
    {
      "cell_type": "code",
      "execution_count": 9,
      "metadata": {
        "colab": {
          "base_uri": "https://localhost:8080/"
        },
        "id": "zH7PJShezCKX",
        "outputId": "4ce57008-365f-44a6-a9a5-8e8e64db5f19"
      },
      "outputs": [
        {
          "name": "stdout",
          "output_type": "stream",
          "text": [
            "Requirement already satisfied: prettytable in /usr/local/lib/python3.10/dist-packages (3.9.0)\n",
            "Requirement already satisfied: wcwidth in /usr/local/lib/python3.10/dist-packages (from prettytable) (0.2.13)\n"
          ]
        }
      ],
      "source": [
        "pip install prettytable"
      ]
    },
    {
      "cell_type": "code",
      "execution_count": 10,
      "metadata": {
        "colab": {
          "base_uri": "https://localhost:8080/"
        },
        "id": "-OJwXsrzmLrA",
        "outputId": "cf545d01-44ae-47a8-8326-d727ac0e1952"
      },
      "outputs": [
        {
          "name": "stdout",
          "output_type": "stream",
          "text": [
            "+-------+---------------+---------------+\n",
            "| Poids | PropositionP1 | PropositionP2 |\n",
            "+-------+---------------+---------------+\n",
            "|  0.6  |       3       |       2       |\n",
            "|  0.57 |       4       |       3       |\n",
            "|  0.9  |       -7      |               |\n",
            "|  0.1  |       4       |               |\n",
            "|  0.0  |       8       |               |\n",
            "|  0.4  |       9       |               |\n",
            "+-------+---------------+---------------+\n",
            "**L'évidence de :  [3, 4, -7]\n",
            "**Le resultat : Val([3, 4, -7], Sigma) = 0.0\n"
          ]
        }
      ],
      "source": [
        "from prettytable import PrettyTable\n",
        "choice = 1\n",
        "if choice == 1:\n",
        "    base_de_connaissance = Sigma(\"/content/drive/MyDrive/data/BD.wcnf\")\n",
        "    evidence = [3, 4, -7]\n",
        "else:\n",
        "    nb_clause = 8\n",
        "    nb_variable = 5\n",
        "    length = 3\n",
        "    max_number = 4\n",
        "    gen = BaseConnaissance(nb_clause, nb_variable, length, max_number)\n",
        "    gen.get_sigma()\n",
        "    base_de_connaissance = Sigma(\"temp.txt\")\n",
        "    evidence = gen.get_evidence()\n",
        "\n",
        "base_de_connaissance.sort_weights()\n",
        "base_de_connaissance.compute_strates()\n",
        "iteration = 1\n",
        "\n",
        "while base_de_connaissance.lower < base_de_connaissance.upper:\n",
        "    r = int((base_de_connaissance.lower + base_de_connaissance.upper + 1) / 2)\n",
        "\n",
        "    liste = base_de_connaissance.get_weights()\n",
        "    value_of_r = -1\n",
        "    for i in range(len(liste)):\n",
        "        if base_de_connaissance.get_strates_weights()[r - 1] > liste[i]:\n",
        "            value_of_r = i\n",
        "            break\n",
        "    if value_of_r == -1:\n",
        "        value_of_r = len(liste) - 1\n",
        "\n",
        "    for j in range(len(liste)):\n",
        "        if base_de_connaissance.get_strates_weights()[base_de_connaissance.upper - 1] == liste[j]:\n",
        "            valueU = j\n",
        "            break\n",
        "\n",
        "    cnf = base_de_connaissance.formulas[valueU:value_of_r]\n",
        "\n",
        "    for i in range(len(evidence)):\n",
        "        liste = []\n",
        "        liste.append(-1 * evidence[i])\n",
        "        cnf = list(base_de_connaissance.get_preprocessed_formulas(cnf))\n",
        "\n",
        "\n",
        "    cnf = base_de_connaissance.get_preprocessed_formulas(cnf)\n",
        "\n",
        "    result = pycosat.solve(cnf)\n",
        "    if type(result) == type([]):\n",
        "        base_de_connaissance.upper = r - 1\n",
        "    else:\n",
        "        base_de_connaissance.lower = r\n",
        "\n",
        "    iteration = iteration + 1\n",
        "\n",
        "Val = base_de_connaissance.get_strates_weights()[r - 1]\n",
        "\n",
        "with open(\"/content/drive/MyDrive/data/BD.wcnf\") as f:\n",
        "    content = f.read().splitlines()\n",
        "\n",
        "\n",
        "# Création d'une table PrettyTable\n",
        "table = PrettyTable()\n",
        "table.field_names = [\"Poids\", \"PropositionP1\", \"PropositionP2\"]  # Remplacez les noms des colonnes par ceux appropriés\n",
        "\n",
        "# Ajout des lignes à la table\n",
        "for line in content:\n",
        "    row_values = line.split()\n",
        "    # Remplir les colonnes manquantes avec des chaînes vides\n",
        "    while len(row_values) < len(table.field_names):\n",
        "        row_values.append('')\n",
        "    table.add_row(row_values)\n",
        "\n",
        "# Affichage de la table\n",
        "print(table)\n",
        "\n",
        "\n",
        "print(\"**L'évidence de : \", evidence)\n",
        "print(\"**Le resultat : Val(\" + str(evidence) + \", Sigma) = \" + str(Val))\n"
      ]
    }
  ],
  "metadata": {
    "colab": {
      "provenance": []
    },
    "kernelspec": {
      "display_name": "Python 3",
      "name": "python3"
    },
    "language_info": {
      "name": "python"
    }
  },
  "nbformat": 4,
  "nbformat_minor": 0
}
