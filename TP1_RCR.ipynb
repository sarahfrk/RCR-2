{
  "cells": [
    {
      "cell_type": "markdown",
      "metadata": {
        "id": "qXjI4SgV8kdM"
      },
      "source": [
        "\n",
        "### M2_SII_23_24:\n",
        "<center><h1>TP1 RCR2:</h1></center>\n",
        "<center><h2>Théorie des Fonctions de Croyance</h2></center>\n",
        "---\n",
        "FERKOU SARAH - KHEMISSI MAROUA\n",
        "\n"
      ]
    },
    {
      "cell_type": "code",
      "execution_count": null,
      "metadata": {
        "colab": {
          "base_uri": "https://localhost:8080/"
        },
        "id": "okgzRWpe_jo_",
        "outputId": "9ec44434-54dc-4a0c-a4b0-9b33cd1b1ad1"
      },
      "outputs": [
        {
          "name": "stdout",
          "output_type": "stream",
          "text": [
            "Collecting git+https://github.com/reineking/pyds.git\n",
            "  Cloning https://github.com/reineking/pyds.git to /tmp/pip-req-build-4mpt4weu\n",
            "  Running command git clone --filter=blob:none --quiet https://github.com/reineking/pyds.git /tmp/pip-req-build-4mpt4weu\n",
            "  Resolved https://github.com/reineking/pyds.git to commit 30d669c5826366031ae820623e18f0546a3fa3d6\n",
            "  Preparing metadata (setup.py) ... \u001b[?25l\u001b[?25hdone\n",
            "Building wheels for collected packages: py-dempster-shafer\n",
            "  Building wheel for py-dempster-shafer (setup.py) ... \u001b[?25l\u001b[?25hdone\n",
            "  Created wheel for py-dempster-shafer: filename=py_dempster_shafer-0.7-py3-none-any.whl size=14424 sha256=c1ce2ef9c2eadcb51806632bc9a6e7debe73a27fd2433f70f002e4f5fde67d2a\n",
            "  Stored in directory: /tmp/pip-ephem-wheel-cache-zlx5re90/wheels/5f/8b/1e/ce46d992d95bf63af864f06f4fa6cebed0a630b1a5bf110b21\n",
            "Successfully built py-dempster-shafer\n",
            "Installing collected packages: py-dempster-shafer\n",
            "Successfully installed py-dempster-shafer-0.7\n"
          ]
        }
      ],
      "source": [
        "pip install 'git+https://github.com/reineking/pyds.git'"
      ]
    },
    {
      "cell_type": "markdown",
      "metadata": {
        "id": "cyQLQe8oBWsl"
      },
      "source": [
        "Enonce :\n",
        "On a choisi ce exercise pour l'exploitation de cette bibliotheque :\n",
        "Trois experts tentent d'évaluer les causes du changement climatique dans une région donnée.\n",
        "\n",
        "Le premier expert suggère que le changement climatique est attribuable à 30 aux activités humaines, à 40 aux variations naturelles, et à 30 à des facteurs inconnus.\n",
        "\n",
        "\n",
        "Le deuxième expert affirme que le changement climatique est principalement dû à des facteurs humains à hauteur de 50, mais il pourrait également être causé par des variations naturelles à 20.\n",
        "\n",
        "Le dernier expert déclare que le changement climatique est soit résultat d'activités humaines (comme l'industrialisation) à hauteur de 60, soit il est lié à des facteurs inconnue  a 40.\n"
      ]
    },
    {
      "cell_type": "code",
      "execution_count": null,
      "metadata": {
        "colab": {
          "base_uri": "https://localhost:8080/"
        },
        "id": "dqiqvnSzB-P9",
        "outputId": "02aa2ff5-6e99-4b6a-fb46-e76bad031608"
      },
      "outputs": [
        {
          "name": "stdout",
          "output_type": "stream",
          "text": [
            "Expert 1\n",
            "m_1 = {{'B'}:0.4; {'A'}:0.3; {'C'}:0.3}\n",
            "\n",
            "Expert 2\n",
            "m_2 = {{'A'}:0.5; {'B'}:0.2}\n",
            "\n",
            "Expert 3\n",
            "m_3 = {{'A'}:0.6; {'C'}:0.4}\n"
          ]
        }
      ],
      "source": [
        "from pyds import MassFunction\n",
        "\n",
        "# Expert 1\n",
        "print(\"Expert 1\")\n",
        "m1 = MassFunction({'A': 0.3, 'B': 0.4, 'C': 0.3})\n",
        "print(\"m_1 =\", m1)\n",
        "\n",
        "# Expert 2\n",
        "print(\"\\nExpert 2\")\n",
        "m2 = MassFunction({'A': 0.5, 'B': 0.2})\n",
        "print(\"m_2 =\", m2)\n",
        "\n",
        "# Expert 3\n",
        "print(\"\\nExpert 3\")\n",
        "m3 = MassFunction({'A': 0.6, 'C': 0.4})\n",
        "print(\"m_3 =\", m3)"
      ]
    },
    {
      "cell_type": "code",
      "execution_count": null,
      "metadata": {
        "colab": {
          "base_uri": "https://localhost:8080/"
        },
        "id": "FVBUz3DuBAkw",
        "outputId": "e6ed2d29-408c-46f8-ff62-60033a507abc"
      },
      "outputs": [
        {
          "name": "stdout",
          "output_type": "stream",
          "text": [
            "Croyance et possibilité pour l'expert 1\n",
            "bel_1 =  {frozenset(): 0.0, frozenset({'B'}): 0.4, frozenset({'A'}): 0.3, frozenset({'C'}): 0.3, frozenset({'B', 'A'}): 0.7, frozenset({'B', 'C'}): 0.7, frozenset({'C', 'A'}): 0.6, frozenset({'B', 'A', 'C'}): 1.0}\n",
            "pl_1 =  {frozenset(): 0.0, frozenset({'B'}): 0.4, frozenset({'A'}): 0.3, frozenset({'C'}): 0.3, frozenset({'B', 'A'}): 0.7, frozenset({'B', 'C'}): 0.7, frozenset({'C', 'A'}): 0.6, frozenset({'B', 'A', 'C'}): 1.0}\n",
            "Croyance et possibilité pour l'expert 2\n",
            "bel_2 =  {frozenset(): 0.0, frozenset({'B'}): 0.2, frozenset({'A'}): 0.5, frozenset({'B', 'A'}): 0.7}\n",
            "pl_2 =  {frozenset(): 0.0, frozenset({'B'}): 0.2, frozenset({'A'}): 0.5, frozenset({'B', 'A'}): 0.7}\n",
            "Croyance et possibilité pour l'expert 3\n",
            "bel_3 =  {frozenset(): 0.0, frozenset({'C'}): 0.4, frozenset({'A'}): 0.6, frozenset({'C', 'A'}): 1.0}\n",
            "pl_3 =  {frozenset(): 0.0, frozenset({'C'}): 0.4, frozenset({'A'}): 0.6, frozenset({'C', 'A'}): 1.0}\n"
          ]
        }
      ],
      "source": [
        "#affichage de croyance et plausibilité pour chaque expert\n",
        "print(\"Croyance et possibilité pour l'expert 1\")\n",
        "print(\"bel_1 = \", m1.bel())\n",
        "print(\"pl_1 = \", m1.pl())\n",
        "\n",
        "print(\"Croyance et possibilité pour l'expert 2\")\n",
        "print(\"bel_2 = \", m2.bel())\n",
        "print(\"pl_2 = \", m2.pl())\n",
        "\n",
        "print(\"Croyance et possibilité pour l'expert 3\")\n",
        "print(\"bel_3 = \", m3.bel())\n",
        "print(\"pl_3 = \", m3.pl())"
      ]
    },
    {
      "cell_type": "code",
      "execution_count": null,
      "metadata": {
        "colab": {
          "base_uri": "https://localhost:8080/"
        },
        "id": "abyR7_WQBG3H",
        "outputId": "80dc962f-7851-46b1-f372-0df472999ea0"
      },
      "outputs": [
        {
          "name": "stdout",
          "output_type": "stream",
          "text": [
            "Dempster-Shafer Combinaison rule\n",
            "Dempster-Shafer Combinaison rule for m_1 and m_2 =  {{'A'}:0.6521739130434782; {'B'}:0.3478260869565218}\n",
            "Dempster-Shafer Combinaison rule for m_2 and m_3 =  {{'A'}:1.0}\n",
            "Dempster-Shafer Combinaison rule for m_1 and m_3 =  {{'A'}:0.6; {'C'}:0.4}\n",
            "Dempster-Shafer Combinaison rule for m_1, m_2 and m_3 =  {{'A'}:0.6521739130434782; {'B'}:0.3478260869565218}\n",
            "Dempster-Shafer Combinaison rule for m_2, m_1 and m_3 =  {{'A'}:0.6521739130434782; {'B'}:0.3478260869565218}\n",
            "Dempster-Shafer Combinaison rule for m_3, m_1 and m_2 =  {{'A'}:0.6; {'C'}:0.4}\n"
          ]
        }
      ],
      "source": [
        "#combinaisons des masses par fusion de Dempster-Shafer\n",
        "print(\"Dempster-Shafer Combinaison rule\")\n",
        "print(\"Dempster-Shafer Combinaison rule for m_1 and m_2 = \", m1 & m2)\n",
        "print(\"Dempster-Shafer Combinaison rule for m_2 and m_3 = \", m2 & m3)\n",
        "print(\"Dempster-Shafer Combinaison rule for m_1 and m_3 = \", m1 & m3)\n",
        "\n",
        "print(\"Dempster-Shafer Combinaison rule for m_1, m_2 and m_3 = \", m1.combine_conjunctive(m2, m3))\n",
        "print(\"Dempster-Shafer Combinaison rule for m_2, m_1 and m_3 = \", m2.combine_conjunctive(m1, m3))\n",
        "print(\"Dempster-Shafer Combinaison rule for m_3, m_1 and m_2 = \", m3.combine_conjunctive(m1, m2))"
      ]
    }
  ],
  "metadata": {
    "colab": {
      "provenance": []
    },
    "kernelspec": {
      "display_name": "Python 3",
      "name": "python3"
    },
    "language_info": {
      "name": "python"
    }
  },
  "nbformat": 4,
  "nbformat_minor": 0
}
