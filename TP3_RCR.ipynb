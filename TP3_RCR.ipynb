{
  "cells": [
    {
      "cell_type": "markdown",
      "metadata": {},
      "source": [
        "\n",
        "### M2_SII_23_24:\n",
        "<center><h1>TP3 RCR2:</h1></center>\n",
        "<center><h2>Réseaux causaux Bayésiens</h2></center>\n",
        "---\n",
        "FERKOU SARAH - KHEMISSI MAROUA\n",
        "\n"
      ]
    },
    {
      "cell_type": "code",
      "execution_count": null,
      "metadata": {
        "colab": {
          "base_uri": "https://localhost:8080/"
        },
        "id": "tWAfyxAz21MK",
        "outputId": "4a4ed832-cc45-4e52-91f8-5eff691515f9"
      },
      "outputs": [
        {
          "name": "stdout",
          "output_type": "stream",
          "text": [
            "Collecting pgmpy\n",
            "  Downloading pgmpy-0.1.24-py3-none-any.whl (2.0 MB)\n",
            "\u001b[2K     \u001b[90m━━━━━━━━━━━━━━━━━━━━━━━━━━━━━━━━━━━━━━━━\u001b[0m \u001b[32m2.0/2.0 MB\u001b[0m \u001b[31m10.1 MB/s\u001b[0m eta \u001b[36m0:00:00\u001b[0m\n",
            "\u001b[?25hRequirement already satisfied: networkx in /usr/local/lib/python3.10/dist-packages (from pgmpy) (3.2.1)\n",
            "Requirement already satisfied: numpy in /usr/local/lib/python3.10/dist-packages (from pgmpy) (1.23.5)\n",
            "Requirement already satisfied: scipy in /usr/local/lib/python3.10/dist-packages (from pgmpy) (1.11.4)\n",
            "Requirement already satisfied: scikit-learn in /usr/local/lib/python3.10/dist-packages (from pgmpy) (1.2.2)\n",
            "Requirement already satisfied: pandas in /usr/local/lib/python3.10/dist-packages (from pgmpy) (1.5.3)\n",
            "Requirement already satisfied: pyparsing in /usr/local/lib/python3.10/dist-packages (from pgmpy) (3.1.1)\n",
            "Requirement already satisfied: torch in /usr/local/lib/python3.10/dist-packages (from pgmpy) (2.1.0+cu121)\n",
            "Requirement already satisfied: statsmodels in /usr/local/lib/python3.10/dist-packages (from pgmpy) (0.14.1)\n",
            "Requirement already satisfied: tqdm in /usr/local/lib/python3.10/dist-packages (from pgmpy) (4.66.1)\n",
            "Requirement already satisfied: joblib in /usr/local/lib/python3.10/dist-packages (from pgmpy) (1.3.2)\n",
            "Requirement already satisfied: opt-einsum in /usr/local/lib/python3.10/dist-packages (from pgmpy) (3.3.0)\n",
            "Requirement already satisfied: python-dateutil>=2.8.1 in /usr/local/lib/python3.10/dist-packages (from pandas->pgmpy) (2.8.2)\n",
            "Requirement already satisfied: pytz>=2020.1 in /usr/local/lib/python3.10/dist-packages (from pandas->pgmpy) (2023.3.post1)\n",
            "Requirement already satisfied: threadpoolctl>=2.0.0 in /usr/local/lib/python3.10/dist-packages (from scikit-learn->pgmpy) (3.2.0)\n",
            "Requirement already satisfied: patsy>=0.5.4 in /usr/local/lib/python3.10/dist-packages (from statsmodels->pgmpy) (0.5.6)\n",
            "Requirement already satisfied: packaging>=21.3 in /usr/local/lib/python3.10/dist-packages (from statsmodels->pgmpy) (23.2)\n",
            "Requirement already satisfied: filelock in /usr/local/lib/python3.10/dist-packages (from torch->pgmpy) (3.13.1)\n",
            "Requirement already satisfied: typing-extensions in /usr/local/lib/python3.10/dist-packages (from torch->pgmpy) (4.5.0)\n",
            "Requirement already satisfied: sympy in /usr/local/lib/python3.10/dist-packages (from torch->pgmpy) (1.12)\n",
            "Requirement already satisfied: jinja2 in /usr/local/lib/python3.10/dist-packages (from torch->pgmpy) (3.1.3)\n",
            "Requirement already satisfied: fsspec in /usr/local/lib/python3.10/dist-packages (from torch->pgmpy) (2023.6.0)\n",
            "Requirement already satisfied: triton==2.1.0 in /usr/local/lib/python3.10/dist-packages (from torch->pgmpy) (2.1.0)\n",
            "Requirement already satisfied: six in /usr/local/lib/python3.10/dist-packages (from patsy>=0.5.4->statsmodels->pgmpy) (1.16.0)\n",
            "Requirement already satisfied: MarkupSafe>=2.0 in /usr/local/lib/python3.10/dist-packages (from jinja2->torch->pgmpy) (2.1.3)\n",
            "Requirement already satisfied: mpmath>=0.19 in /usr/local/lib/python3.10/dist-packages (from sympy->torch->pgmpy) (1.3.0)\n",
            "Installing collected packages: pgmpy\n",
            "Successfully installed pgmpy-0.1.24\n"
          ]
        }
      ],
      "source": [
        "pip install pgmpy"
      ]
    },
    {
      "cell_type": "code",
      "execution_count": null,
      "metadata": {
        "colab": {
          "base_uri": "https://localhost:8080/"
        },
        "id": "ynOVqmsSGzFH",
        "outputId": "f562ab13-2289-4143-8a02-e740070599b6"
      },
      "outputs": [
        {
          "data": {
            "text/plain": [
              "[<TabularCPD representing P(D:2 | F:2, C:2) at 0x7ec68055cdc0>,\n",
              " <TabularCPD representing P(F:2) at 0x7ec73e666e00>,\n",
              " <TabularCPD representing P(C:2) at 0x7ec73e665cc0>,\n",
              " <TabularCPD representing P(M:2 | C:2) at 0x7ec73e665c30>,\n",
              " <TabularCPD representing P(P:2 | D:2) at 0x7ec73e665db0>]"
            ]
          },
          "execution_count": 3,
          "metadata": {},
          "output_type": "execute_result"
        }
      ],
      "source": [
        "from pgmpy.factors.discrete import TabularCPD\n",
        "from pgmpy.models import BayesianNetwork\n",
        "# Etablissement de la structure\n",
        "climate_model = BayesianNetwork([\n",
        "    ('F', 'D'),\n",
        "    ('C', 'D'),\n",
        "    ('D', 'P'),\n",
        "    ('C', 'M'),\n",
        "])\n",
        "# Définition des relations\n",
        "fire_cpd = TabularCPD(\n",
        "    variable='F',\n",
        "    variable_card=2,\n",
        "    values=[[.6], [.4]]\n",
        ")\n",
        "\n",
        "climate_cpd = TabularCPD(\n",
        "    variable='C',\n",
        "    variable_card=2,\n",
        "    values=[[.7], [.3]]\n",
        ")\n",
        "mitigation_cpd = TabularCPD(\n",
        "    variable='M',\n",
        "    variable_card=2,\n",
        "    values=[[.8, .9],\n",
        "            [.2, .1]],\n",
        "    evidence=['C'],\n",
        "    evidence_card=[2]\n",
        ")\n",
        "\n",
        "deforestation_cpd = TabularCPD(\n",
        "    variable='D',\n",
        "    variable_card=2,\n",
        "    values=[[.7, .8, .95, .8], [.3, .2, .05, .2]],\n",
        "    evidence=['F', 'C'],\n",
        "    evidence_card=[2, 2]\n",
        ")\n",
        "\n",
        "extreme_weather_cpd = TabularCPD(\n",
        "    variable='P',\n",
        "    variable_card=2,\n",
        "    values=[[.9, .95], [.1, .05]],\n",
        "    evidence=['D'],\n",
        "    evidence_card=[2]\n",
        ")\n",
        "\n",
        "\n",
        "# Ajout des relations à notre modèle\n",
        "climate_model.add_cpds(deforestation_cpd, fire_cpd, climate_cpd, mitigation_cpd, extreme_weather_cpd)\n",
        "\n",
        "# Re-vérification de la structure de notre modèle\n",
        "climate_model.get_cpds()"
      ]
    },
    {
      "cell_type": "code",
      "execution_count": null,
      "metadata": {
        "colab": {
          "base_uri": "https://localhost:8080/"
        },
        "id": "UgbjfRxR5Hm3",
        "outputId": "0bf1c740-8201-4296-b928-622f42caa197"
      },
      "outputs": [
        {
          "name": "stdout",
          "output_type": "stream",
          "text": [
            "+------+----------+\n",
            "| D    |   phi(D) |\n",
            "+======+==========+\n",
            "| D(0) |   0.8000 |\n",
            "+------+----------+\n",
            "| D(1) |   0.2000 |\n",
            "+------+----------+\n"
          ]
        }
      ],
      "source": [
        "from pgmpy.inference import VariableElimination\n",
        "# Calcul des probabilités existantes pour vérifier que tout est correct\n",
        "prob_deforestation = VariableElimination(climate_model).query(variables=['D'])\n",
        "print(prob_deforestation)\n"
      ]
    },
    {
      "cell_type": "code",
      "execution_count": null,
      "metadata": {
        "colab": {
          "base_uri": "https://localhost:8080/"
        },
        "id": "3Ab4AgTA5Px-",
        "outputId": "140529ef-ec44-4ded-830c-f0642f1742a1"
      },
      "outputs": [
        {
          "name": "stdout",
          "output_type": "stream",
          "text": [
            "+------+----------+\n",
            "| P    |   phi(P) |\n",
            "+======+==========+\n",
            "| P(0) |   0.9100 |\n",
            "+------+----------+\n",
            "| P(1) |   0.0900 |\n",
            "+------+----------+\n"
          ]
        }
      ],
      "source": [
        "# Faire un autre calcul de probabilité\n",
        "prob_extreme_weather = VariableElimination(climate_model).query(variables=['P'])\n",
        "print(prob_extreme_weather)"
      ]
    },
    {
      "cell_type": "code",
      "execution_count": null,
      "metadata": {
        "colab": {
          "base_uri": "https://localhost:8080/"
        },
        "id": "QH8drz1o5TDl",
        "outputId": "1b0a1b70-05af-4629-cff9-47f98f011f92"
      },
      "outputs": [
        {
          "name": "stdout",
          "output_type": "stream",
          "text": [
            "+------+----------+\n",
            "| C    |   phi(C) |\n",
            "+======+==========+\n",
            "| C(0) |   0.7000 |\n",
            "+------+----------+\n",
            "| C(1) |   0.3000 |\n",
            "+------+----------+\n"
          ]
        }
      ],
      "source": [
        "# Probabilité d'avoir le changement climatique si on a la déforestation\n",
        "proba_climate_deforestation = VariableElimination(climate_model).query(variables=['C'], evidence={'D': 1})\n",
        "print(proba_climate_deforestation)"
      ]
    },
    {
      "cell_type": "code",
      "execution_count": null,
      "metadata": {
        "colab": {
          "base_uri": "https://localhost:8080/"
        },
        "id": "wq3H_vbv5WgU",
        "outputId": "6ba5bd17-aaaa-420e-cc1a-94e4efb1c38e"
      },
      "outputs": [
        {
          "name": "stdout",
          "output_type": "stream",
          "text": [
            "+------+----------+\n",
            "| M    |   phi(M) |\n",
            "+======+==========+\n",
            "| M(0) |   0.9000 |\n",
            "+------+----------+\n",
            "| M(1) |   0.1000 |\n",
            "+------+----------+\n"
          ]
        }
      ],
      "source": [
        "# Probabilité d'avoir des mesures d'atténuation si on a le changement climatique\n",
        "proba_mitigation_climate = VariableElimination(climate_model).query(variables=['M'], evidence={'C': 1})\n",
        "print(proba_mitigation_climate)"
      ]
    },
    {
      "cell_type": "markdown",
      "metadata": {
        "id": "r00c8AoR5g9-"
      },
      "source": [
        "# Conception d’un arbre multi-connected\n"
      ]
    },
    {
      "cell_type": "code",
      "execution_count": null,
      "metadata": {
        "colab": {
          "base_uri": "https://localhost:8080/"
        },
        "id": "uX2cFwWY5nZk",
        "outputId": "1b3e57b8-e190-4884-d3de-70f3fae9476d"
      },
      "outputs": [
        {
          "data": {
            "text/plain": [
              "[<TabularCPD representing P(C:2) at 0x7ec67253d8a0>,\n",
              " <TabularCPD representing P(F:2 | C:2) at 0x7ec67253d900>,\n",
              " <TabularCPD representing P(D:2 | C:2, F:2) at 0x7ec67253d960>,\n",
              " <TabularCPD representing P(O:2) at 0x7ec67253d9c0>,\n",
              " <TabularCPD representing P(P:2 | O:2, D:2) at 0x7ec67253d930>]"
            ]
          },
          "execution_count": 8,
          "metadata": {},
          "output_type": "execute_result"
        }
      ],
      "source": [
        "from pgmpy.factors.discrete import TabularCPD\n",
        "from pgmpy.models import BayesianNetwork\n",
        "\n",
        "# Establishing the structure\n",
        "climate_model = BayesianNetwork([\n",
        "    ('C', 'F'),\n",
        "    ('C', 'D'),\n",
        "    ('F', 'D'),\n",
        "    ('D', 'P'),\n",
        "    ('O', 'P'),\n",
        "])\n",
        "\n",
        "# Defining the relationships\n",
        "changement_climate_cpd = TabularCPD(\n",
        "    variable='C',\n",
        "    variable_card=2,\n",
        "    values=[[.75], [.25]]\n",
        ")\n",
        "\n",
        "feu_cpd = TabularCPD(\n",
        "    variable='F',\n",
        "    variable_card=2,\n",
        "    values=[[.6, .3],\n",
        "            [.4, .7]],\n",
        "    evidence=['C'],\n",
        "    evidence_card=[2]\n",
        ")\n",
        "\n",
        "defostration_cpd = TabularCPD(\n",
        "    variable='D',\n",
        "    variable_card=2,\n",
        "    values=[\n",
        "        [.99, .8, .7, .4], [.01, .2, .3, .6]],\n",
        "    evidence=['C', 'F'],\n",
        "    evidence_card=[2, 2]\n",
        ")\n",
        "\n",
        "ocean_cpd = TabularCPD(\n",
        "    variable='O',\n",
        "    variable_card=2,\n",
        "    values=[[.6], [.4]]\n",
        ")\n",
        "\n",
        "phenomenes_cpd = TabularCPD(\n",
        "    variable='P',\n",
        "    variable_card=2,\n",
        "    values=[[.9, .4, .2, .3], [.1, .6, .8, .7]],\n",
        "    evidence=['O', 'D'],\n",
        "    evidence_card=[2, 2]\n",
        ")\n",
        "\n",
        "# Adding the relationships to our model\n",
        "climate_model.add_cpds(changement_climate_cpd,\n",
        "                       feu_cpd, defostration_cpd, ocean_cpd, phenomenes_cpd)\n",
        "\n",
        "# Checking the structure of our model\n",
        "climate_model.get_cpds()"
      ]
    },
    {
      "cell_type": "code",
      "execution_count": null,
      "metadata": {
        "colab": {
          "base_uri": "https://localhost:8080/"
        },
        "id": "i0jcc6VD5s_V",
        "outputId": "4e99b334-4a37-477c-b5bf-fccc1d4e2f6d"
      },
      "outputs": [
        {
          "name": "stdout",
          "output_type": "stream",
          "text": [
            "{'D': {'D', 'P', 'F', 'C'}}\n",
            "\n",
            "{'C': {'C', 'D', 'F', 'P'}}\n",
            "\n",
            "{'F': {'C', 'D', 'F', 'P'}}\n"
          ]
        }
      ],
      "source": [
        "#trouver les chemins des noeuds pour determiner qu'est ce qui donne des infos sur un noeud\n",
        "print(climate_model.active_trail_nodes('D'))\n",
        "print()\n",
        "\n",
        "print(climate_model.active_trail_nodes('C'))\n",
        "print()\n",
        "\n",
        "print(climate_model.active_trail_nodes('F'))"
      ]
    },
    {
      "cell_type": "code",
      "execution_count": null,
      "metadata": {
        "colab": {
          "base_uri": "https://localhost:8080/"
        },
        "id": "018GxuUm-pJU",
        "outputId": "8c0d5ef3-3607-4b91-a016-1bdbf69b52e1"
      },
      "outputs": [
        {
          "name": "stdout",
          "output_type": "stream",
          "text": [
            "+------+----------+\n",
            "| C    |   phi(C) |\n",
            "+======+==========+\n",
            "| C(0) |   0.7500 |\n",
            "+------+----------+\n",
            "| C(1) |   0.2500 |\n",
            "+------+----------+\n"
          ]
        }
      ],
      "source": [
        "from pgmpy.inference import VariableElimination\n",
        "climate_infer = VariableElimination(climate_model)\n",
        "#calcul des proba existante pour vérifier que tout est correct\n",
        "prob_changement = climate_infer.query(variables=['C'])\n",
        "print(prob_changement)"
      ]
    },
    {
      "cell_type": "code",
      "execution_count": null,
      "metadata": {
        "colab": {
          "base_uri": "https://localhost:8080/"
        },
        "id": "xmAzOPC-_PD6",
        "outputId": "39a9f21c-b014-49a7-aa2e-254c3168dfed"
      },
      "outputs": [
        {
          "name": "stdout",
          "output_type": "stream",
          "text": [
            "+------+----------+\n",
            "| P    |   phi(P) |\n",
            "+======+==========+\n",
            "| P(0) |   0.3600 |\n",
            "+------+----------+\n",
            "| P(1) |   0.6400 |\n",
            "+------+----------+\n"
          ]
        }
      ],
      "source": [
        "#probabilité d'avoir une phenomene meteorologique quand il ya une defostration (proba conditionelle)\n",
        "proba_phenomene_def = climate_infer.query(variables=['P'], evidence= {'D':1})\n",
        "print(proba_phenomene_def)"
      ]
    },
    {
      "cell_type": "code",
      "execution_count": null,
      "metadata": {
        "colab": {
          "base_uri": "https://localhost:8080/",
          "height": 672
        },
        "id": "GhVxSSqYT8YK",
        "outputId": "20c959c7-1f2d-4d12-d37d-5ebcbe83b4b3"
      },
      "outputs": [
        {
          "data": {
            "text/plain": [
              "{('X1', 'X3'): Text(-0.345809220284058, 0.5278474550064115, ''),\n",
              " ('X1', 'X4'): Text(0.2816753658700262, 0.23156992268139964, ''),\n",
              " ('X2', 'X4'): Text(0.3472854547387738, -0.1457034043559915, ''),\n",
              " ('X2', 'X5'): Text(-0.17124263250528013, -0.5749175005677971, ''),\n",
              " ('X2', 'X7'): Text(0.5071582341407501, -0.07384399123993968, ''),\n",
              " ('X2', 'X8'): Text(-0.29797519820142077, -0.6867709700486295, ''),\n",
              " ('X4', 'X7'): Text(0.7561503438459591, 0.153994544501328, ''),\n",
              " ('X5', 'X8'): Text(-0.5675111757402658, -0.8881465305191676, ''),\n",
              " ('X6', 'X7'): Text(0.8765672954684185, 0.13295969679160405, '')}"
            ]
          },
          "execution_count": 12,
          "metadata": {},
          "output_type": "execute_result"
        },
        {
          "data": {
            "image/png": "[encoded data removed]",
            "text/plain": [
              "<Figure size 640x480 with 1 Axes>"
            ]
          },
          "metadata": {},
          "output_type": "display_data"
        }
      ],
      "source": [
        "import networkx as nx\n",
        "import random\n",
        "\n",
        "def generate_random_bayesian_network(num_nodes, max_parents_per_node):\n",
        "    # Création d'un graphe dirigé\n",
        "    G = nx.DiGraph()\n",
        "\n",
        "    # Ajout des nœuds au graphe\n",
        "    for i in range(num_nodes):\n",
        "        G.add_node(f'X{i}')\n",
        "\n",
        "    # Ajout des arcs entre les nœuds\n",
        "    for i in range(num_nodes):\n",
        "        num_parents = random.randint(0, min(i, max_parents_per_node))\n",
        "        parents = random.sample(range(i), num_parents)\n",
        "        for parent in parents:\n",
        "            G.add_edge(f'X{parent}', f'X{i}')\n",
        "\n",
        "    # Attribution de probabilités aléatoires aux CPDs\n",
        "    for node in G.nodes():\n",
        "        num_states = random.randint(2, 5)  # Nombre aléatoire d'états pour chaque variable\n",
        "        states = [f'State{i}' for i in range(num_states)]\n",
        "        cpd_values = [random.random() for _ in range(num_states)]\n",
        "        cpd_values = [val / sum(cpd_values) for val in cpd_values]  # Normalisation des probabilités\n",
        "        G.nodes[node]['states'] = states\n",
        "        G.nodes[node]['probabilities'] = cpd_values\n",
        "\n",
        "    return G\n",
        "\n",
        "# Paramètres\n",
        "num_nodes = 10  # Nombre total de variables\n",
        "max_parents_per_node = 3  # Nombre maximal de parents par variable\n",
        "\n",
        "# Génération du réseau bayésien\n",
        "random_bayesian_network = generate_random_bayesian_network(num_nodes, max_parents_per_node)\n",
        "\n",
        "# Affichage du graphe\n",
        "pos = nx.spring_layout(random_bayesian_network)\n",
        "nx.draw(random_bayesian_network, pos, with_labels=True, font_weight='bold', node_size=700, node_color='skyblue', font_size=8)\n",
        "nx.draw_networkx_edge_labels(random_bayesian_network, pos, edge_labels={(i, j): '' for i, j in random_bayesian_network.edges()})"
      ]
    }
  ],
  "metadata": {
    "colab": {
      "provenance": []
    },
    "kernelspec": {
      "display_name": "Python 3",
      "name": "python3"
    },
    "language_info": {
      "name": "python"
    }
  },
  "nbformat": 4,
  "nbformat_minor": 0
}
